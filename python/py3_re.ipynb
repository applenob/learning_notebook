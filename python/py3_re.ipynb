{
 "cells": [
  {
   "cell_type": "markdown",
   "metadata": {},
   "source": [
    "# Python正则表达式梳理\n",
    "\n",
    "```最近在一个项目中大量使用过正则表达式，因此对不同的用法做个梳理。```\n",
    "\n",
    "## 简介\n",
    "\n",
    "正则表达式的作用是**检查一个字符串是否与某种模式匹配**。\n",
    "\n",
    "Python正则表达式测试网站：https://pythex.org/\n",
    "\n",
    "## 语法\n",
    "\n"
   ]
  }
 ],
 "metadata": {
  "kernelspec": {
   "display_name": "Python 3",
   "language": "python",
   "name": "python3"
  },
  "language_info": {
   "codemirror_mode": {
    "name": "ipython",
    "version": 3
   },
   "file_extension": ".py",
   "mimetype": "text/x-python",
   "name": "python",
   "nbconvert_exporter": "python",
   "pygments_lexer": "ipython3",
   "version": "3.6.4"
  }
 },
 "nbformat": 4,
 "nbformat_minor": 2
}
