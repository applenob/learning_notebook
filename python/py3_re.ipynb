{
 "cells": [
  {
   "cell_type": "markdown",
   "metadata": {},
   "source": [
    "# Python正则表达式梳理\n",
    "\n",
    "```最近在一个项目中大量使用正则表达式，对各种用法做个梳理。```\n",
    "\n",
    "## 1 简介\n",
    "\n",
    "正则表达式的作用是**检查一个字符串是否与某种模式匹配**。Python中的`re`模块提供正则匹配相关的方法。\n",
    "\n",
    "## 2 语法\n",
    "\n",
    "Python正则表达式测试网站：https://pythex.org/\n",
    "\n",
    "![](https://github.com/applenob/learning_notebook/raw/master/res/pyre1.png)\n",
    "\n",
    "图片来自：https://www.cnblogs.com/huxi/archive/2010/07/04/1771073.html"
   ]
  },
  {
   "cell_type": "markdown",
   "metadata": {},
   "source": [
    "## 3 常用方法\n",
    "\n",
    "### 3.1 re.match\n",
    "\n",
    "`re.match`尝试从字符串的**起始位置**匹配一个模式，如果不是起始位置匹配成功的话，返回`None`。\n",
    "\n",
    "函数语法：\n",
    "\n",
    "```python\n",
    "re.match(pattern, string, flags=0)\n",
    "```"
   ]
  },
  {
   "cell_type": "code",
   "execution_count": 1,
   "metadata": {},
   "outputs": [],
   "source": [
    "import re"
   ]
  },
  {
   "cell_type": "code",
   "execution_count": 2,
   "metadata": {},
   "outputs": [
    {
     "data": {
      "text/plain": [
       "'www.didichuxing.com'"
      ]
     },
     "execution_count": 2,
     "metadata": {},
     "output_type": "execute_result"
    }
   ],
   "source": [
    "# 匹配网址\n",
    "pattern_str = \"w{3}\\..*\\.com\"\n",
    "# match\n",
    "match_1 = re.match(pattern_str, \"www.didichuxing.com\")\n",
    "match_1.group()"
   ]
  },
  {
   "cell_type": "markdown",
   "metadata": {},
   "source": [
    "### 3.2 re.search\n",
    "\n",
    "`re.search`扫描整个字符串并返回第一个成功的匹配。\n",
    "\n",
    "函数语法：\n",
    "\n",
    "```python\n",
    "re.search(pattern, string, flags=0)\n",
    "```"
   ]
  },
  {
   "cell_type": "code",
   "execution_count": 3,
   "metadata": {},
   "outputs": [
    {
     "data": {
      "text/plain": [
       "'www.didichuxing.com'"
      ]
     },
     "execution_count": 3,
     "metadata": {},
     "output_type": "execute_result"
    }
   ],
   "source": [
    "# 匹配网址\n",
    "pattern_str = \"w{3}\\..*\\.com\"\n",
    "# search\n",
    "match_2 = re.search(pattern_str, \"The url is: www.didichuxing.com\")  # 不是从头开始\n",
    "match_2.group()"
   ]
  },
  {
   "cell_type": "markdown",
   "metadata": {},
   "source": [
    "### 3.3 Match\n",
    "`re.match`和`re.search`返回的都是一个`Match` 对象（如果成功匹配）。\n",
    "\n",
    "`Match` 对象又有如下常用的方法：\n",
    "- `start([group])`：返回指定的组截获的子串在string中的起始索引（**子串第一个字符的索引**）。group默认值为0。\n",
    "- `end([group])`: 返回指定的组截获的子串在string中的结束索引（**子串最后一个字符的索引+1**）。group默认值为0。\n",
    "- `span([group])`：返回`(start(group), end(group))`。\n",
    "- `group([group1, …])`：获得一个或多个分组截获的字符串；指定多个参数时将以元组形式返回。`group1`可以使用编号也可以使用别名；编号0代表整个匹配的子串，默认是0。\n",
    "- `groups([default])`：以元组形式返回全部分组截获的字符串。相当于调用`group(1,2,…last)`。`default`表示没有截获字符串的组以这个值替代，默认为`None`。\n",
    "- `groupdict([default])`: 返回以有别名的组的别名为键、以该组截获的子串为值的字典，没有别名的组不包含在内。\n",
    "- `expand(template)`: 将匹配到的分组代入`template`中然后返回。`template`中可以使用`\\id`或`\\g<id>`、`\\g<name>`引用分组，但不能使用编号0。`\\id`与`\\g<id>`是等价的；但`\\10`将被认为是第10个分组，如果你想表达`\\1`之后是字符`'0'`，只能使用`\\g<1>0`。\n",
    "\n",
    "**注意：`group(0)`返回的是整个匹配的结果，`group(n)`或者`group(name)`是某个匹配的组。**"
   ]
  },
  {
   "cell_type": "code",
   "execution_count": 4,
   "metadata": {},
   "outputs": [
    {
     "name": "stdout",
     "output_type": "stream",
     "text": [
      "match_3:  <_sre.SRE_Match object; span=(4, 7), match='15元'>\n",
      "match_3.span():  (4, 7)\n",
      "match_3.group():  15元\n",
      "match_3.group(1):  15\n",
      "match_3.groups():  ('15',)\n"
     ]
    }
   ],
   "source": [
    "# 匹配数字\n",
    "pattern_str = \"(\\d+)元\"\n",
    "# search\n",
    "match_3 = re.search(pattern_str, \"今天花了15元\")\n",
    "# match object\n",
    "print(\"match_3: \", match_3)\n",
    "# span\n",
    "print(\"match_3.span(): \", match_3.span())\n",
    "# group\n",
    "print(\"match_3.group(): \", match_3.group())\n",
    "print(\"match_3.group(1): \", match_3.group(1))\n",
    "# groups\n",
    "print(\"match_3.groups(): \", match_3.groups())"
   ]
  },
  {
   "cell_type": "markdown",
   "metadata": {},
   "source": [
    "### 3.4 re.sub\n",
    "\n",
    "实现字符串**替换**。\n",
    "\n",
    "语法：\n",
    "\n",
    "```python\n",
    "re.sub(pattern, repl, string, count=0, flags=0)\n",
    "```\n",
    "\n",
    "**注意，这里的`repl`可以是字符串也可以是一个函数。**"
   ]
  },
  {
   "cell_type": "code",
   "execution_count": 5,
   "metadata": {},
   "outputs": [
    {
     "data": {
      "text/plain": [
       "'今天花了2元'"
      ]
     },
     "execution_count": 5,
     "metadata": {},
     "output_type": "execute_result"
    }
   ],
   "source": [
    "# 匹配数字\n",
    "pattern_str = \"贰|二\"\n",
    "# 用字符串替换\n",
    "res = re.sub(pattern_str, \"2\", \"今天花了贰元\")\n",
    "res"
   ]
  },
  {
   "cell_type": "code",
   "execution_count": 6,
   "metadata": {},
   "outputs": [
    {
     "data": {
      "text/plain": [
       "'今天花了22元'"
      ]
     },
     "execution_count": 6,
     "metadata": {},
     "output_type": "execute_result"
    }
   ],
   "source": [
    "pattern_str = \"(\\d)+(元)\"\n",
    "# 用替换\n",
    "res = re.sub(pattern_str, lambda match: match.group(1) * 2 + match.group(2), \"今天花了2元\")\n",
    "res"
   ]
  },
  {
   "cell_type": "markdown",
   "metadata": {},
   "source": [
    "### 3.5 re.compile\n",
    "\n",
    "`re.compile`用于编译正则表达式，生成一个正则表达式`Pattern`对象。\n",
    "\n",
    "语法：\n",
    "\n",
    "```python\n",
    "re.compile(pattern[, flags])\n",
    "```"
   ]
  },
  {
   "cell_type": "code",
   "execution_count": 7,
   "metadata": {},
   "outputs": [],
   "source": [
    "pattern_str = \"(\\d)+(元)\"\n",
    "pattern = re.compile(pattern_str)"
   ]
  },
  {
   "cell_type": "markdown",
   "metadata": {},
   "source": [
    "### 3.6 Pattern\n",
    "\n",
    "`Pattern`不能直接实例化，必须使用`re.compile()`进行构造。\n",
    "\n",
    "常用方法：\n",
    "\n",
    "- `match(string[, pos[, endpos]]) | re.match(pattern, string[, flags])`: 这个方法将从`string`的`pos`下标处起尝试匹配`pattern`；如果`pattern`结束时仍可匹配，则返回一个`Match`对象；如果匹配过程中`pattern`无法匹配，或者匹配未结束就已到达`endpos`，则返回`None`。 \n",
    "- `search(string[, pos[, endpos]]) | re.search(pattern, string[, flags])`: 这个方法用于查找字符串中可以匹配成功的子串。从`string`的`pos`下标处起尝试匹配`pattern`，如果`pattern`结束时仍可匹配，则返回一个`Match`对象；若无法匹配，则将`pos`加1后重新尝试匹配；直到`pos=endpos`时仍无法匹配则返回`None`。 \n",
    "- `split(string[, maxsplit]) | re.split(pattern, string[, maxsplit])`: 按照能够匹配的子串将`string`分割后返回列表。`maxsplit`用于指定最大分割次数，不指定将全部分割。 \n",
    "- `findall(string[, pos[, endpos]]) | re.findall(pattern, string[, flags])`: 搜索string，以列表形式返回全部能匹配的子串。 \n",
    "- `finditer(string[, pos[, endpos]]) | re.finditer(pattern, string[, flags])`: 搜索string，返回一个顺序访问每一个匹配结果（Match对象）的迭代器。 \n",
    "- `sub(repl, string[, count]) | re.sub(pattern, repl, string[, count])`: 使用repl替换string中每一个匹配的子串后返回替换后的字符串。 \n",
    "- `subn(repl, string[, count]) |re.sub(pattern, repl, string[, count])`: 返回 `(sub(repl, string[, count])`, 替换次数)。 "
   ]
  },
  {
   "cell_type": "code",
   "execution_count": 8,
   "metadata": {},
   "outputs": [
    {
     "name": "stdout",
     "output_type": "stream",
     "text": [
      "pattern.match:  None\n",
      "pattern.search:  <_sre.SRE_Match object; span=(4, 7), match='15元'>\n",
      "pattern.split:  ['吃饭花费', '5', '元', '，坐车', '6', '元', '']\n",
      "pattern.findall:  [('5', '元'), ('6', '元')]\n",
      "pattern.sub:  吃饭花费5块，坐车6块\n",
      "pattern.sub:  ('吃饭花费5块，坐车6块', 2)\n"
     ]
    }
   ],
   "source": [
    "test_str = \"吃饭花费15元，坐车6元\"\n",
    "# match\n",
    "print(\"pattern.match: \", pattern.match(test_str))\n",
    "# search\n",
    "print(\"pattern.search: \", pattern.search(test_str))\n",
    "# split\n",
    "print(\"pattern.split: \", pattern.split(test_str))\n",
    "# findall\n",
    "print(\"pattern.findall: \", pattern.findall(test_str))\n",
    "# sub\n",
    "print(\"pattern.sub: \", pattern.sub(lambda match: match.group(1) + \"块\", test_str))\n",
    "# subn\n",
    "print(\"pattern.sub: \", pattern.subn(lambda match: match.group(1) + \"块\", test_str))"
   ]
  },
  {
   "cell_type": "markdown",
   "metadata": {},
   "source": [
    "### 3.7 flags\n",
    "\n",
    "多个标志可以通过`|`来指定。\n",
    "\n",
    "- `I(IGNORECASE)`: 忽略大小写。\n",
    "- `M(MULTILINE)`: 多行模式，改变`^`和`$`的行为。\n",
    "- `S(DOTALL)`: 点任意匹配模式，改变`.`的行为。\n",
    "- `L(LOCALE)`: 使预定字符类`\\w` `\\W` `\\b` `\\B` `\\s` `\\S` 取决于当前区域设定。\n",
    "- `U(UNICODE)`: 使预定字符类`\\w` `\\W` `\\b` `\\B` `\\s` `\\S` `\\d` `\\D` 取决于unicode定义的字符属性。\n",
    "- `X(VERBOSE)`: 详细模式。这个模式下正则表达式可以是多行，忽略空白字符，并可以加入注释。。"
   ]
  },
  {
   "cell_type": "code",
   "execution_count": 9,
   "metadata": {},
   "outputs": [
    {
     "name": "stdout",
     "output_type": "stream",
     "text": [
      "I:  <_sre.SRE_Match object; span=(0, 3), match='abc'>\n"
     ]
    }
   ],
   "source": [
    "pattern_str = \"ABc\"\n",
    "# I\n",
    "print(\"I: \", re.match(pattern_str, \"abcd\", flags=re.I))"
   ]
  },
  {
   "cell_type": "code",
   "execution_count": 10,
   "metadata": {},
   "outputs": [
    {
     "name": "stdout",
     "output_type": "stream",
     "text": [
      "None\n",
      "M:  ['abc', 'abc']\n"
     ]
    }
   ],
   "source": [
    "pattern_str = \"^ABc$\"\n",
    "test_str = \"abc\\nABD\\nabc\"\n",
    "# M\n",
    "print(re.match(pattern_str, test_str))\n",
    "print(\"M: \", re.findall(pattern_str, test_str, flags=re.I|re.M))"
   ]
  },
  {
   "cell_type": "markdown",
   "metadata": {},
   "source": [
    "## 4. 常用方式\n",
    "\n",
    "### 4.1 直接找到匹配的子串\n",
    "\n",
    "这是最常见的需求，提取出符合pattern的子串，一般用`search`可以搞定。\n",
    "\n",
    "**案例**：\n",
    "\n",
    "从文本里抽取手机号码："
   ]
  },
  {
   "cell_type": "code",
   "execution_count": 11,
   "metadata": {},
   "outputs": [
    {
     "name": "stdout",
     "output_type": "stream",
     "text": [
      "18801010101\n"
     ]
    }
   ],
   "source": [
    "pattern_str = \"\\d{11}\"  # 11位的数字认为是手机号码\n",
    "test_str = \"我的手机号码是18801010101\"\n",
    "match = re.search(pattern_str, test_str)\n",
    "print(match.group())"
   ]
  },
  {
   "cell_type": "markdown",
   "metadata": {},
   "source": [
    "### 4.2 找到匹配的子串中的一部分\n",
    "\n",
    "比如匹配距离：从“125公里”中找到“125”，但是直接匹配数字可能是其他的数据，可能是“1天”、“3元钱”等。\n",
    "\n",
    "这种情况使用**分组**即可。分组可以按照`(?P<first>\\d)`起名，或者不起名，从`1`开始索引。\n",
    "\n",
    "**案例**：\n",
    "\n",
    "抽取距离数值："
   ]
  },
  {
   "cell_type": "code",
   "execution_count": 12,
   "metadata": {},
   "outputs": [
    {
     "name": "stdout",
     "output_type": "stream",
     "text": [
      "['34']\n"
     ]
    }
   ],
   "source": [
    "pattern_str = \"(?P<distance>\\d+)公里\"\n",
    "test_str = \"距离是34公里，耗时25分钟\"\n",
    "print(re.findall(pattern_str, test_str))"
   ]
  },
  {
   "cell_type": "markdown",
   "metadata": {},
   "source": [
    "还可以使用`(?=)`来实现："
   ]
  },
  {
   "cell_type": "code",
   "execution_count": 13,
   "metadata": {},
   "outputs": [
    {
     "name": "stdout",
     "output_type": "stream",
     "text": [
      "['34']\n"
     ]
    }
   ],
   "source": [
    "pattern_str = \"\\d+(?=公里)\"\n",
    "test_str = \"距离是34公里，耗时25分钟\"\n",
    "print(re.findall(pattern_str, test_str))"
   ]
  },
  {
   "cell_type": "markdown",
   "metadata": {},
   "source": [
    "`(?=)`，`(?!)`，`(?<=)`，`(?<!)`都是属于**不消耗字符串**的操作，非常有用。`!`代表不等，`<`代表前面匹配。"
   ]
  },
  {
   "cell_type": "markdown",
   "metadata": {},
   "source": [
    "### 4.3 复杂的替换\n",
    "\n",
    "比如我们需要把所有的量词数字替换成一个特殊符号`<number>`。\n",
    "\n",
    "一般使用`sub`可以解决。\n",
    "\n",
    "参数`repl`接受函数时，参数是返回的`Match`对象。\n",
    "\n",
    "```python\n",
    "lambda match: repl_str + match.group(2)\n",
    "```\n",
    "\n",
    "含义是将数量替换，单位保留。\n",
    "\n",
    "**案例**：\n",
    "\n",
    "替换数量："
   ]
  },
  {
   "cell_type": "code",
   "execution_count": 14,
   "metadata": {},
   "outputs": [
    {
     "name": "stdout",
     "output_type": "stream",
     "text": [
      "我需要买<number>个苹果和<number>个鸡蛋，预算是100元。\n"
     ]
    }
   ],
   "source": [
    "pattern_str = \"(\\d+)(个)\"\n",
    "test_str = \"我需要买10个苹果和6个鸡蛋，预算是100元。\"\n",
    "repl_str = \"<number>\"\n",
    "res = re.sub(pattern_str, lambda match: repl_str + match.group(2), test_str)\n",
    "print(res)"
   ]
  },
  {
   "cell_type": "markdown",
   "metadata": {},
   "source": [
    "继续把上面这种情况复杂化，单位可能是`个`或者`只`："
   ]
  },
  {
   "cell_type": "code",
   "execution_count": 15,
   "metadata": {},
   "outputs": [
    {
     "name": "stdout",
     "output_type": "stream",
     "text": [
      "我需要买<number>个苹果和<number>只鸡蛋，预算是100元。\n"
     ]
    }
   ],
   "source": [
    "pattern_str = \"(\\d+)(?P<unit>个|只)\"\n",
    "test_str = \"我需要买10个苹果和6只鸡蛋，预算是100元。\"\n",
    "repl_str = \"<number>\"\n",
    "def repl_func(match):\n",
    "    return repl_str + match.group(\"unit\")\n",
    "res = re.sub(pattern_str, repl_func, test_str)\n",
    "print(res)"
   ]
  },
  {
   "cell_type": "markdown",
   "metadata": {},
   "source": [
    "## 4.4 逻辑操作\n",
    "\n",
    "接上面的案例，可能会遇到更复杂的**或**逻辑，甚至是**否**逻辑：\n",
    "\n",
    "**案例**：\n",
    "\n",
    "稍复杂的**或**："
   ]
  },
  {
   "cell_type": "code",
   "execution_count": 16,
   "metadata": {},
   "outputs": [
    {
     "name": "stdout",
     "output_type": "stream",
     "text": [
      "['3顿麦当劳A套餐', '2顿肯德基3号套餐']\n"
     ]
    }
   ],
   "source": [
    "pattern_str = \"\\d+顿(?:麦当劳[A-Z]套餐|肯德基[0-9]号套餐)\"\n",
    "test_str = \"我上个月吃了3顿麦当劳A套餐，2顿肯德基3号套餐\"\n",
    "repl_str = \"<number>\"\n",
    "print(re.findall(pattern_str, test_str))"
   ]
  },
  {
   "cell_type": "markdown",
   "metadata": {},
   "source": [
    "上面的`(?:)`不算入分组。\n",
    "\n",
    "**案例**：\n",
    "\n",
    "稍复杂的**否**，比如我想抽取所有的**钱数**，因此我认为带钱单位的数字和不带钱的单位的数字都是钱数，带其他单位的数字都忽略，为简化问题，不是钱的单位假设只有“号”和“天”，认为其他数字都是和钱数。"
   ]
  },
  {
   "cell_type": "code",
   "execution_count": 17,
   "metadata": {},
   "outputs": [
    {
     "name": "stdout",
     "output_type": "stream",
     "text": [
      "['1000']\n"
     ]
    }
   ],
   "source": [
    "pattern_str = \"\\d+(?!号|天)\"\n",
    "test_str = \"3号我的开销1000元\"\n",
    "print(re.findall(pattern_str, test_str))"
   ]
  }
 ],
 "metadata": {
  "kernelspec": {
   "display_name": "Python 3",
   "language": "python",
   "name": "python3"
  },
  "language_info": {
   "codemirror_mode": {
    "name": "ipython",
    "version": 3
   },
   "file_extension": ".py",
   "mimetype": "text/x-python",
   "name": "python",
   "nbconvert_exporter": "python",
   "pygments_lexer": "ipython3",
   "version": "3.6.4"
  }
 },
 "nbformat": 4,
 "nbformat_minor": 2
}
